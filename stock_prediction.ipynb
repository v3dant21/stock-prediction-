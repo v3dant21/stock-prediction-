{
  "nbformat": 4,
  "nbformat_minor": 0,
  "metadata": {
    "colab": {
      "provenance": [],
      "authorship_tag": "ABX9TyPiQLUFDTwFm8By2crayTJj",
      "include_colab_link": true
    },
    "kernelspec": {
      "name": "python3",
      "display_name": "Python 3"
    },
    "language_info": {
      "name": "python"
    }
  },
  "cells": [
    {
      "cell_type": "markdown",
      "metadata": {
        "id": "view-in-github",
        "colab_type": "text"
      },
      "source": [
        "<a href=\"https://colab.research.google.com/github/v3dant21/stock-prediction-/blob/main/stock_prediction.ipynb\" target=\"_parent\"><img src=\"https://colab.research.google.com/assets/colab-badge.svg\" alt=\"Open In Colab\"/></a>"
      ]
    },
    {
      "cell_type": "code",
      "execution_count": null,
      "metadata": {
        "id": "7O5LOHPst3y6"
      },
      "outputs": [],
      "source": [
        "import pandas as pd\n",
        "import numpy as np\n",
        "import matplotlib.pyplot as plt\n",
        "%matplotlib inline\n",
        "from matplotlib.pylab import rcParams\n",
        "rcParams['figure.figsize']= 20,10\n",
        "from keras.models import Sequential\n",
        "from keras.layers import LSTM,Dropout,Dense\n",
        "from sklearn.preprocessing import MinMaxScaler"
      ]
    },
    {
      "cell_type": "code",
      "source": [
        "df = pd.read_csv('data.csv')\n",
        "df.head()"
      ],
      "metadata": {
        "colab": {
          "base_uri": "https://localhost:8080/",
          "height": 310
        },
        "id": "aIMRZxYv0ApL",
        "outputId": "1d5b7e69-e0ab-4d64-f811-a6f8e7af2f0d"
      },
      "execution_count": null,
      "outputs": [
        {
          "output_type": "execute_result",
          "data": {
            "text/plain": [
              "         Date      Open      High       Low     Close   Shares Traded   \\\n",
              "0  16-FEB-2024  22020.30  22068.65  21968.95  22040.70     343892935.0   \n",
              "1  19-FEB-2024  22103.45  22186.65  22021.05  22122.25     218252325.0   \n",
              "2  20-FEB-2024  22099.20  22215.60  22045.85  22196.95     295705319.0   \n",
              "3  21-FEB-2024  22248.85  22249.40  21997.95  22055.05     364545679.0   \n",
              "4  22-FEB-2024  22081.55  22252.50  21875.25  22217.45     343495136.0   \n",
              "\n",
              "   Turnover (₹ Cr)  \n",
              "0         30666.89  \n",
              "1         21375.71  \n",
              "2         26872.32  \n",
              "3         29741.39  \n",
              "4         33985.94  "
            ],
            "text/html": [
              "\n",
              "  <div id=\"df-c548bc36-f9eb-4b98-b53f-959a27bac1af\" class=\"colab-df-container\">\n",
              "    <div>\n",
              "<style scoped>\n",
              "    .dataframe tbody tr th:only-of-type {\n",
              "        vertical-align: middle;\n",
              "    }\n",
              "\n",
              "    .dataframe tbody tr th {\n",
              "        vertical-align: top;\n",
              "    }\n",
              "\n",
              "    .dataframe thead th {\n",
              "        text-align: right;\n",
              "    }\n",
              "</style>\n",
              "<table border=\"1\" class=\"dataframe\">\n",
              "  <thead>\n",
              "    <tr style=\"text-align: right;\">\n",
              "      <th></th>\n",
              "      <th>Date</th>\n",
              "      <th>Open</th>\n",
              "      <th>High</th>\n",
              "      <th>Low</th>\n",
              "      <th>Close</th>\n",
              "      <th>Shares Traded</th>\n",
              "      <th>Turnover (₹ Cr)</th>\n",
              "    </tr>\n",
              "  </thead>\n",
              "  <tbody>\n",
              "    <tr>\n",
              "      <th>0</th>\n",
              "      <td>16-FEB-2024</td>\n",
              "      <td>22020.30</td>\n",
              "      <td>22068.65</td>\n",
              "      <td>21968.95</td>\n",
              "      <td>22040.70</td>\n",
              "      <td>343892935.0</td>\n",
              "      <td>30666.89</td>\n",
              "    </tr>\n",
              "    <tr>\n",
              "      <th>1</th>\n",
              "      <td>19-FEB-2024</td>\n",
              "      <td>22103.45</td>\n",
              "      <td>22186.65</td>\n",
              "      <td>22021.05</td>\n",
              "      <td>22122.25</td>\n",
              "      <td>218252325.0</td>\n",
              "      <td>21375.71</td>\n",
              "    </tr>\n",
              "    <tr>\n",
              "      <th>2</th>\n",
              "      <td>20-FEB-2024</td>\n",
              "      <td>22099.20</td>\n",
              "      <td>22215.60</td>\n",
              "      <td>22045.85</td>\n",
              "      <td>22196.95</td>\n",
              "      <td>295705319.0</td>\n",
              "      <td>26872.32</td>\n",
              "    </tr>\n",
              "    <tr>\n",
              "      <th>3</th>\n",
              "      <td>21-FEB-2024</td>\n",
              "      <td>22248.85</td>\n",
              "      <td>22249.40</td>\n",
              "      <td>21997.95</td>\n",
              "      <td>22055.05</td>\n",
              "      <td>364545679.0</td>\n",
              "      <td>29741.39</td>\n",
              "    </tr>\n",
              "    <tr>\n",
              "      <th>4</th>\n",
              "      <td>22-FEB-2024</td>\n",
              "      <td>22081.55</td>\n",
              "      <td>22252.50</td>\n",
              "      <td>21875.25</td>\n",
              "      <td>22217.45</td>\n",
              "      <td>343495136.0</td>\n",
              "      <td>33985.94</td>\n",
              "    </tr>\n",
              "  </tbody>\n",
              "</table>\n",
              "</div>\n",
              "    <div class=\"colab-df-buttons\">\n",
              "\n",
              "  <div class=\"colab-df-container\">\n",
              "    <button class=\"colab-df-convert\" onclick=\"convertToInteractive('df-c548bc36-f9eb-4b98-b53f-959a27bac1af')\"\n",
              "            title=\"Convert this dataframe to an interactive table.\"\n",
              "            style=\"display:none;\">\n",
              "\n",
              "  <svg xmlns=\"http://www.w3.org/2000/svg\" height=\"24px\" viewBox=\"0 -960 960 960\">\n",
              "    <path d=\"M120-120v-720h720v720H120Zm60-500h600v-160H180v160Zm220 220h160v-160H400v160Zm0 220h160v-160H400v160ZM180-400h160v-160H180v160Zm440 0h160v-160H620v160ZM180-180h160v-160H180v160Zm440 0h160v-160H620v160Z\"/>\n",
              "  </svg>\n",
              "    </button>\n",
              "\n",
              "  <style>\n",
              "    .colab-df-container {\n",
              "      display:flex;\n",
              "      gap: 12px;\n",
              "    }\n",
              "\n",
              "    .colab-df-convert {\n",
              "      background-color: #E8F0FE;\n",
              "      border: none;\n",
              "      border-radius: 50%;\n",
              "      cursor: pointer;\n",
              "      display: none;\n",
              "      fill: #1967D2;\n",
              "      height: 32px;\n",
              "      padding: 0 0 0 0;\n",
              "      width: 32px;\n",
              "    }\n",
              "\n",
              "    .colab-df-convert:hover {\n",
              "      background-color: #E2EBFA;\n",
              "      box-shadow: 0px 1px 2px rgba(60, 64, 67, 0.3), 0px 1px 3px 1px rgba(60, 64, 67, 0.15);\n",
              "      fill: #174EA6;\n",
              "    }\n",
              "\n",
              "    .colab-df-buttons div {\n",
              "      margin-bottom: 4px;\n",
              "    }\n",
              "\n",
              "    [theme=dark] .colab-df-convert {\n",
              "      background-color: #3B4455;\n",
              "      fill: #D2E3FC;\n",
              "    }\n",
              "\n",
              "    [theme=dark] .colab-df-convert:hover {\n",
              "      background-color: #434B5C;\n",
              "      box-shadow: 0px 1px 3px 1px rgba(0, 0, 0, 0.15);\n",
              "      filter: drop-shadow(0px 1px 2px rgba(0, 0, 0, 0.3));\n",
              "      fill: #FFFFFF;\n",
              "    }\n",
              "  </style>\n",
              "\n",
              "    <script>\n",
              "      const buttonEl =\n",
              "        document.querySelector('#df-c548bc36-f9eb-4b98-b53f-959a27bac1af button.colab-df-convert');\n",
              "      buttonEl.style.display =\n",
              "        google.colab.kernel.accessAllowed ? 'block' : 'none';\n",
              "\n",
              "      async function convertToInteractive(key) {\n",
              "        const element = document.querySelector('#df-c548bc36-f9eb-4b98-b53f-959a27bac1af');\n",
              "        const dataTable =\n",
              "          await google.colab.kernel.invokeFunction('convertToInteractive',\n",
              "                                                    [key], {});\n",
              "        if (!dataTable) return;\n",
              "\n",
              "        const docLinkHtml = 'Like what you see? Visit the ' +\n",
              "          '<a target=\"_blank\" href=https://colab.research.google.com/notebooks/data_table.ipynb>data table notebook</a>'\n",
              "          + ' to learn more about interactive tables.';\n",
              "        element.innerHTML = '';\n",
              "        dataTable['output_type'] = 'display_data';\n",
              "        await google.colab.output.renderOutput(dataTable, element);\n",
              "        const docLink = document.createElement('div');\n",
              "        docLink.innerHTML = docLinkHtml;\n",
              "        element.appendChild(docLink);\n",
              "      }\n",
              "    </script>\n",
              "  </div>\n",
              "\n",
              "\n",
              "<div id=\"df-296305c7-3751-4063-8eeb-180cb4c0a2e5\">\n",
              "  <button class=\"colab-df-quickchart\" onclick=\"quickchart('df-296305c7-3751-4063-8eeb-180cb4c0a2e5')\"\n",
              "            title=\"Suggest charts\"\n",
              "            style=\"display:none;\">\n",
              "\n",
              "<svg xmlns=\"http://www.w3.org/2000/svg\" height=\"24px\"viewBox=\"0 0 24 24\"\n",
              "     width=\"24px\">\n",
              "    <g>\n",
              "        <path d=\"M19 3H5c-1.1 0-2 .9-2 2v14c0 1.1.9 2 2 2h14c1.1 0 2-.9 2-2V5c0-1.1-.9-2-2-2zM9 17H7v-7h2v7zm4 0h-2V7h2v10zm4 0h-2v-4h2v4z\"/>\n",
              "    </g>\n",
              "</svg>\n",
              "  </button>\n",
              "\n",
              "<style>\n",
              "  .colab-df-quickchart {\n",
              "      --bg-color: #E8F0FE;\n",
              "      --fill-color: #1967D2;\n",
              "      --hover-bg-color: #E2EBFA;\n",
              "      --hover-fill-color: #174EA6;\n",
              "      --disabled-fill-color: #AAA;\n",
              "      --disabled-bg-color: #DDD;\n",
              "  }\n",
              "\n",
              "  [theme=dark] .colab-df-quickchart {\n",
              "      --bg-color: #3B4455;\n",
              "      --fill-color: #D2E3FC;\n",
              "      --hover-bg-color: #434B5C;\n",
              "      --hover-fill-color: #FFFFFF;\n",
              "      --disabled-bg-color: #3B4455;\n",
              "      --disabled-fill-color: #666;\n",
              "  }\n",
              "\n",
              "  .colab-df-quickchart {\n",
              "    background-color: var(--bg-color);\n",
              "    border: none;\n",
              "    border-radius: 50%;\n",
              "    cursor: pointer;\n",
              "    display: none;\n",
              "    fill: var(--fill-color);\n",
              "    height: 32px;\n",
              "    padding: 0;\n",
              "    width: 32px;\n",
              "  }\n",
              "\n",
              "  .colab-df-quickchart:hover {\n",
              "    background-color: var(--hover-bg-color);\n",
              "    box-shadow: 0 1px 2px rgba(60, 64, 67, 0.3), 0 1px 3px 1px rgba(60, 64, 67, 0.15);\n",
              "    fill: var(--button-hover-fill-color);\n",
              "  }\n",
              "\n",
              "  .colab-df-quickchart-complete:disabled,\n",
              "  .colab-df-quickchart-complete:disabled:hover {\n",
              "    background-color: var(--disabled-bg-color);\n",
              "    fill: var(--disabled-fill-color);\n",
              "    box-shadow: none;\n",
              "  }\n",
              "\n",
              "  .colab-df-spinner {\n",
              "    border: 2px solid var(--fill-color);\n",
              "    border-color: transparent;\n",
              "    border-bottom-color: var(--fill-color);\n",
              "    animation:\n",
              "      spin 1s steps(1) infinite;\n",
              "  }\n",
              "\n",
              "  @keyframes spin {\n",
              "    0% {\n",
              "      border-color: transparent;\n",
              "      border-bottom-color: var(--fill-color);\n",
              "      border-left-color: var(--fill-color);\n",
              "    }\n",
              "    20% {\n",
              "      border-color: transparent;\n",
              "      border-left-color: var(--fill-color);\n",
              "      border-top-color: var(--fill-color);\n",
              "    }\n",
              "    30% {\n",
              "      border-color: transparent;\n",
              "      border-left-color: var(--fill-color);\n",
              "      border-top-color: var(--fill-color);\n",
              "      border-right-color: var(--fill-color);\n",
              "    }\n",
              "    40% {\n",
              "      border-color: transparent;\n",
              "      border-right-color: var(--fill-color);\n",
              "      border-top-color: var(--fill-color);\n",
              "    }\n",
              "    60% {\n",
              "      border-color: transparent;\n",
              "      border-right-color: var(--fill-color);\n",
              "    }\n",
              "    80% {\n",
              "      border-color: transparent;\n",
              "      border-right-color: var(--fill-color);\n",
              "      border-bottom-color: var(--fill-color);\n",
              "    }\n",
              "    90% {\n",
              "      border-color: transparent;\n",
              "      border-bottom-color: var(--fill-color);\n",
              "    }\n",
              "  }\n",
              "</style>\n",
              "\n",
              "  <script>\n",
              "    async function quickchart(key) {\n",
              "      const quickchartButtonEl =\n",
              "        document.querySelector('#' + key + ' button');\n",
              "      quickchartButtonEl.disabled = true;  // To prevent multiple clicks.\n",
              "      quickchartButtonEl.classList.add('colab-df-spinner');\n",
              "      try {\n",
              "        const charts = await google.colab.kernel.invokeFunction(\n",
              "            'suggestCharts', [key], {});\n",
              "      } catch (error) {\n",
              "        console.error('Error during call to suggestCharts:', error);\n",
              "      }\n",
              "      quickchartButtonEl.classList.remove('colab-df-spinner');\n",
              "      quickchartButtonEl.classList.add('colab-df-quickchart-complete');\n",
              "    }\n",
              "    (() => {\n",
              "      let quickchartButtonEl =\n",
              "        document.querySelector('#df-296305c7-3751-4063-8eeb-180cb4c0a2e5 button');\n",
              "      quickchartButtonEl.style.display =\n",
              "        google.colab.kernel.accessAllowed ? 'block' : 'none';\n",
              "    })();\n",
              "  </script>\n",
              "</div>\n",
              "\n",
              "    </div>\n",
              "  </div>\n"
            ],
            "application/vnd.google.colaboratory.intrinsic+json": {
              "type": "dataframe",
              "variable_name": "df",
              "summary": "{\n  \"name\": \"df\",\n  \"rows\": 250,\n  \"fields\": [\n    {\n      \"column\": \"Date \",\n      \"properties\": {\n        \"dtype\": \"object\",\n        \"num_unique_values\": 250,\n        \"samples\": [\n          \"13-SEP-2024\",\n          \"26-FEB-2024\",\n          \"10-JUL-2024\"\n        ],\n        \"semantic_type\": \"\",\n        \"description\": \"\"\n      }\n    },\n    {\n      \"column\": \"Open \",\n      \"properties\": {\n        \"dtype\": \"number\",\n        \"std\": 1091.719251663067,\n        \"min\": 21843.9,\n        \"max\": 26248.25,\n        \"num_unique_values\": 250,\n        \"samples\": [\n          25430.45,\n          22169.2,\n          24459.85\n        ],\n        \"semantic_type\": \"\",\n        \"description\": \"\"\n      }\n    },\n    {\n      \"column\": \"High \",\n      \"properties\": {\n        \"dtype\": \"number\",\n        \"std\": 1090.1232911916122,\n        \"min\": 21930.9,\n        \"max\": 26277.35,\n        \"num_unique_values\": 250,\n        \"samples\": [\n          25430.5,\n          22202.15,\n          24461.05\n        ],\n        \"semantic_type\": \"\",\n        \"description\": \"\"\n      }\n    },\n    {\n      \"column\": \"Low \",\n      \"properties\": {\n        \"dtype\": \"number\",\n        \"std\": 1100.268338555788,\n        \"min\": 21281.45,\n        \"max\": 26151.4,\n        \"num_unique_values\": 250,\n        \"samples\": [\n          25292.45,\n          22075.15,\n          24141.8\n        ],\n        \"semantic_type\": \"\",\n        \"description\": \"\"\n      }\n    },\n    {\n      \"column\": \"Close \",\n      \"properties\": {\n        \"dtype\": \"number\",\n        \"std\": 1091.9837628463347,\n        \"min\": 21817.45,\n        \"max\": 26216.05,\n        \"num_unique_values\": 249,\n        \"samples\": [\n          24936.4,\n          22122.05,\n          24315.95\n        ],\n        \"semantic_type\": \"\",\n        \"description\": \"\"\n      }\n    },\n    {\n      \"column\": \"Shares Traded \",\n      \"properties\": {\n        \"dtype\": \"number\",\n        \"std\": 102629852.55114326,\n        \"min\": 19064566.0,\n        \"max\": 1006105058.0,\n        \"num_unique_values\": 249,\n        \"samples\": [\n          254367252.0,\n          207775504.0,\n          292263786.0\n        ],\n        \"semantic_type\": \"\",\n        \"description\": \"\"\n      }\n    },\n    {\n      \"column\": \"Turnover (\\u20b9 Cr)\",\n      \"properties\": {\n        \"dtype\": \"number\",\n        \"std\": 11330.031434102695,\n        \"min\": 1572.77,\n        \"max\": 93786.44,\n        \"num_unique_values\": 249,\n        \"samples\": [\n          25180.28,\n          20850.26,\n          35358.54\n        ],\n        \"semantic_type\": \"\",\n        \"description\": \"\"\n      }\n    }\n  ]\n}"
            }
          },
          "metadata": {},
          "execution_count": 5
        }
      ]
    },
    {
      "cell_type": "code",
      "source": [
        " # Assuming your date column is named 'Date'\n",
        "date_column = 'Date'  # Define the date column\n",
        "\n",
        "if date_column in df.columns:\n",
        "    df[date_column] = pd.to_datetime(df[date_column])\n",
        "    df.set_index(date_column, inplace=True)  # Set Date as index\n",
        "\n",
        "# Plot Close Price History\n",
        "plt.figure(figsize=(16, 8))\n",
        "plt.plot(df[\"Close \"], label='Close Price History')\n",
        "plt.xlabel('Date')\n",
        "plt.ylabel('Close Price')\n",
        "plt.title('Stock Close Price History')\n",
        "plt.legend()\n",
        "plt.show()"
      ],
      "metadata": {
        "colab": {
          "base_uri": "https://localhost:8080/",
          "height": 363
        },
        "id": "hkAEad3716PG",
        "outputId": "a3c0d419-d520-4051-ee6f-d83e1bab9b50"
      },
      "execution_count": null,
      "outputs": [
        {
          "output_type": "display_data",
          "data": {
            "text/plain": [
              "<Figure size 1600x800 with 1 Axes>"
            ],
            "image/png": "[encoded data removed]"
          },
          "metadata": {}
        }
      ]
    },
    {
      "cell_type": "code",
      "source": [
        "import pandas as pd\n",
        "\n",
        "data = df.sort_index(ascending=True)\n",
        "\n",
        "new_dataset = pd.DataFrame(index=range(len(df)), columns=['Date', 'Close'])\n",
        "\n",
        "new_dataset[\"Date\"] = data.index\n",
        "new_dataset[\"Close \"] = data[\"Close \"].values\n",
        "\n",
        "new_dataset.reset_index(drop=True, inplace=True)\n",
        "\n",
        "print(new_dataset.head())\n"
      ],
      "metadata": {
        "colab": {
          "base_uri": "https://localhost:8080/"
        },
        "id": "zi-SvdzKQyeF",
        "outputId": "126ec108-ef7f-4647-de8e-92046227edff"
      },
      "execution_count": null,
      "outputs": [
        {
          "output_type": "stream",
          "name": "stdout",
          "text": [
            "   Date Close    Close \n",
            "0     0   NaN  22040.70\n",
            "1     1   NaN  22122.25\n",
            "2     2   NaN  22196.95\n",
            "3     3   NaN  22055.05\n",
            "4     4   NaN  22217.45\n"
          ]
        }
      ]
    },
    {
      "cell_type": "code",
      "source": [
        "df.fillna(0, inplace=True)  # Replace NaNs with 0\n"
      ],
      "metadata": {
        "id": "7xTZPUW6e4Us"
      },
      "execution_count": null,
      "outputs": []
    },
    {
      "cell_type": "code",
      "source": [
        "scaler = MinMaxScaler(feature_range=(0,1))\n",
        "final_dataset = new_dataset.values\n",
        "\n",
        "train_data = final_dataset[0:987,:]\n",
        "valid_data = final_dataset[987:,:]\n",
        "\n",
        "new_dataset.index = new_dataset.index\n",
        "scaler= MinMaxScaler(feature_range=(0,1))\n",
        "scaled_data = scaler.fit_transform(final_dataset)\n",
        "\n",
        "x_train_data, y_train_data = [], []\n",
        "for i in range(60, len(train_data)):\n",
        "    x_train_data.append(scaled_data[i-60:i, 0])\n",
        "    y_train_data.append(scaled_data[i, 0])\n",
        "x_train_data, y_train_data = np.array(x_train_data), np.array(y_train_data)\n",
        "\n",
        "x_train_data = np.reshape(x_train_data, (x_train_data.shape[0], x_train_data.shape[1], 1))"
      ],
      "metadata": {
        "colab": {
          "base_uri": "https://localhost:8080/"
        },
        "id": "SoZ_uoS2dtl0",
        "outputId": "a8bd6f79-ae39-4b26-a7b7-e4b4327f7fb1"
      },
      "execution_count": null,
      "outputs": [
        {
          "output_type": "stream",
          "name": "stderr",
          "text": [
            "/usr/local/lib/python3.11/dist-packages/sklearn/utils/_array_api.py:776: RuntimeWarning: All-NaN slice encountered\n",
            "  return xp.asarray(numpy.nanmin(X, axis=axis))\n",
            "/usr/local/lib/python3.11/dist-packages/sklearn/utils/_array_api.py:793: RuntimeWarning: All-NaN slice encountered\n",
            "  return xp.asarray(numpy.nanmax(X, axis=axis))\n"
          ]
        }
      ]
    },
    {
      "cell_type": "code",
      "source": [
        "from tensorflow.keras.models import Sequential\n",
        "from tensorflow.keras.layers import LSTM, Dense\n",
        "import numpy as np\n",
        "\n",
        "new_dataset.rename(columns={'Date ': 'Close'}, inplace=True)\n",
        "\n",
        "input_data = new_dataset[len(new_dataset)-len(valid_data)-60:][['Close']].values\n",
        "input_data = input_data.reshape(-1, 1)\n",
        "input_data = scaler.transform(final_dataset)\n",
        "\n",
        "x_train_data = x_train_data.reshape((x_train_data.shape[0], x_train_data.shape[1], 1))\n",
        "\n",
        "lstm_model = Sequential()\n",
        "lstm_model.add(LSTM(units=50, return_sequences=True, input_shape=(x_train_data.shape[1], 1)))\n",
        "lstm_model.add(LSTM(units=50))\n",
        "lstm_model.add(Dense(1))\n",
        "\n",
        "lstm_model.compile(loss='mean_squared_error', optimizer='adam')\n",
        "lstm_model.fit(x_train_data, y_train_data, epochs=20, batch_size=1, verbose=2)"
      ],
      "metadata": {
        "colab": {
          "base_uri": "https://localhost:8080/"
        },
        "id": "vZ9S85XNfdgZ",
        "outputId": "77739f4e-be15-427a-c483-d0e556ed3986"
      },
      "execution_count": null,
      "outputs": [
        {
          "output_type": "stream",
          "name": "stdout",
          "text": [
            "Epoch 1/20\n"
          ]
        },
        {
          "output_type": "stream",
          "name": "stderr",
          "text": [
            "/usr/local/lib/python3.11/dist-packages/keras/src/layers/rnn/rnn.py:200: UserWarning: Do not pass an `input_shape`/`input_dim` argument to a layer. When using Sequential models, prefer using an `Input(shape)` object as the first layer in the model instead.\n",
            "  super().__init__(**kwargs)\n"
          ]
        },
        {
          "output_type": "stream",
          "name": "stdout",
          "text": [
            "190/190 - 8s - 40ms/step - loss: 0.0137\n",
            "Epoch 2/20\n",
            "190/190 - 6s - 30ms/step - loss: 8.4644e-06\n",
            "Epoch 3/20\n",
            "190/190 - 4s - 22ms/step - loss: 1.1409e-05\n",
            "Epoch 4/20\n",
            "190/190 - 5s - 27ms/step - loss: 2.1713e-05\n",
            "Epoch 5/20\n",
            "190/190 - 6s - 29ms/step - loss: 9.0919e-05\n",
            "Epoch 6/20\n",
            "190/190 - 10s - 54ms/step - loss: 1.8558e-05\n",
            "Epoch 7/20\n",
            "190/190 - 9s - 47ms/step - loss: 9.5918e-05\n",
            "Epoch 8/20\n",
            "190/190 - 6s - 33ms/step - loss: 3.1859e-05\n",
            "Epoch 9/20\n",
            "190/190 - 10s - 54ms/step - loss: 9.1583e-05\n",
            "Epoch 10/20\n",
            "190/190 - 9s - 48ms/step - loss: 5.1258e-05\n",
            "Epoch 11/20\n",
            "190/190 - 7s - 39ms/step - loss: 2.2395e-04\n",
            "Epoch 12/20\n",
            "190/190 - 4s - 23ms/step - loss: 5.0646e-04\n",
            "Epoch 13/20\n",
            "190/190 - 6s - 34ms/step - loss: 3.6609e-05\n",
            "Epoch 14/20\n",
            "190/190 - 9s - 47ms/step - loss: 2.3128e-05\n",
            "Epoch 15/20\n",
            "190/190 - 6s - 29ms/step - loss: 2.0770e-04\n",
            "Epoch 16/20\n",
            "190/190 - 10s - 52ms/step - loss: 2.2787e-05\n",
            "Epoch 17/20\n",
            "190/190 - 5s - 24ms/step - loss: 2.0056e-04\n",
            "Epoch 18/20\n",
            "190/190 - 4s - 23ms/step - loss: 4.6324e-05\n",
            "Epoch 19/20\n",
            "190/190 - 6s - 33ms/step - loss: 2.6483e-04\n",
            "Epoch 20/20\n",
            "190/190 - 11s - 56ms/step - loss: 5.4070e-05\n"
          ]
        },
        {
          "output_type": "execute_result",
          "data": {
            "text/plain": [
              "<keras.src.callbacks.history.History at 0x7d0e4ef00310>"
            ]
          },
          "metadata": {},
          "execution_count": 21
        }
      ]
    },
    {
      "cell_type": "code",
      "source": [
        "lstm_model=Sequential()\n",
        "lstm_model.add(LSTM(units=50,return_sequences=True,input_shape=(x_train_data.shape[1],1)))\n",
        "lstm_model.add(LSTM(units=50))\n",
        "lstm_model.add(Dense(1))\n",
        "\n",
        "inputs_data=new_dataset[len(new_dataset)-len(valid_data)-60:].values\n",
        "inputs_data=inputs_data.reshape(-1,1)\n",
        "inputs_data=scaler.transform(new_dataset)\n",
        "\n",
        "lstm_model.compile(loss='mean_squared_error',optimizer='adam')\n",
        "lstm_model.fit(x_train_data,y_train_data,epochs=1,batch_size=1,verbose=2)"
      ],
      "metadata": {
        "colab": {
          "base_uri": "https://localhost:8080/"
        },
        "id": "CyYs4BJ2i1nw",
        "outputId": "dd3ebd4d-e745-4b96-a17f-6f21570b5a6e"
      },
      "execution_count": null,
      "outputs": [
        {
          "output_type": "stream",
          "name": "stderr",
          "text": [
            "/usr/local/lib/python3.11/dist-packages/sklearn/utils/validation.py:2732: UserWarning: X has feature names, but MinMaxScaler was fitted without feature names\n",
            "  warnings.warn(\n"
          ]
        },
        {
          "output_type": "stream",
          "name": "stdout",
          "text": [
            "190/190 - 8s - 44ms/step - loss: 0.0117\n"
          ]
        },
        {
          "output_type": "execute_result",
          "data": {
            "text/plain": [
              "<keras.src.callbacks.history.History at 0x7d0e4c7c1e10>"
            ]
          },
          "metadata": {},
          "execution_count": 22
        }
      ]
    },
    {
      "cell_type": "code",
      "source": [
        "predicted_closing_price = predicted_closing_price.reshape(-1, 1)\n",
        "\n",
        "temp_array = np.zeros((predicted_closing_price.shape[0], final_dataset.shape[1]))\n",
        "temp_array[:, 0] = predicted_closing_price[:, 0]\n",
        "\n",
        "predicted_closing_price = scaler.inverse_transform(temp_array)[:, 0]\n"
      ],
      "metadata": {
        "id": "fwIlrjFmjI8i",
        "colab": {
          "base_uri": "https://localhost:8080/",
          "height": 240
        },
        "outputId": "76d7811d-e268-4bcf-d9fe-190876dae934"
      },
      "execution_count": null,
      "outputs": [
        {
          "output_type": "error",
          "ename": "NameError",
          "evalue": "name 'predicted_closing_price' is not defined",
          "traceback": [
            "\u001b[0;31m---------------------------------------------------------------------------\u001b[0m",
            "\u001b[0;31mNameError\u001b[0m                                 Traceback (most recent call last)",
            "\u001b[0;32m<ipython-input-3-ead8fc5b9c2b>\u001b[0m in \u001b[0;36m<cell line: 0>\u001b[0;34m()\u001b[0m\n\u001b[0;32m----> 1\u001b[0;31m \u001b[0mpredicted_closing_price\u001b[0m \u001b[0;34m=\u001b[0m \u001b[0mpredicted_closing_price\u001b[0m\u001b[0;34m.\u001b[0m\u001b[0mreshape\u001b[0m\u001b[0;34m(\u001b[0m\u001b[0;34m-\u001b[0m\u001b[0;36m1\u001b[0m\u001b[0;34m,\u001b[0m \u001b[0;36m1\u001b[0m\u001b[0;34m)\u001b[0m\u001b[0;34m\u001b[0m\u001b[0;34m\u001b[0m\u001b[0m\n\u001b[0m\u001b[1;32m      2\u001b[0m \u001b[0;34m\u001b[0m\u001b[0m\n\u001b[1;32m      3\u001b[0m \u001b[0mtemp_array\u001b[0m \u001b[0;34m=\u001b[0m \u001b[0mnp\u001b[0m\u001b[0;34m.\u001b[0m\u001b[0mzeros\u001b[0m\u001b[0;34m(\u001b[0m\u001b[0;34m(\u001b[0m\u001b[0mpredicted_closing_price\u001b[0m\u001b[0;34m.\u001b[0m\u001b[0mshape\u001b[0m\u001b[0;34m[\u001b[0m\u001b[0;36m0\u001b[0m\u001b[0;34m]\u001b[0m\u001b[0;34m,\u001b[0m \u001b[0mfinal_dataset\u001b[0m\u001b[0;34m.\u001b[0m\u001b[0mshape\u001b[0m\u001b[0;34m[\u001b[0m\u001b[0;36m1\u001b[0m\u001b[0;34m]\u001b[0m\u001b[0;34m)\u001b[0m\u001b[0;34m)\u001b[0m\u001b[0;34m\u001b[0m\u001b[0;34m\u001b[0m\u001b[0m\n\u001b[1;32m      4\u001b[0m \u001b[0mtemp_array\u001b[0m\u001b[0;34m[\u001b[0m\u001b[0;34m:\u001b[0m\u001b[0;34m,\u001b[0m \u001b[0;36m0\u001b[0m\u001b[0;34m]\u001b[0m \u001b[0;34m=\u001b[0m \u001b[0mpredicted_closing_price\u001b[0m\u001b[0;34m[\u001b[0m\u001b[0;34m:\u001b[0m\u001b[0;34m,\u001b[0m \u001b[0;36m0\u001b[0m\u001b[0;34m]\u001b[0m\u001b[0;34m\u001b[0m\u001b[0;34m\u001b[0m\u001b[0m\n\u001b[1;32m      5\u001b[0m \u001b[0;34m\u001b[0m\u001b[0m\n",
            "\u001b[0;31mNameError\u001b[0m: name 'predicted_closing_price' is not defined"
          ]
        }
      ]
    },
    {
      "cell_type": "code",
      "source": [
        "from sklearn.preprocessing import MinMaxScaler\n",
        "import numpy as np\n",
        "\n",
        "close_scaler = MinMaxScaler()\n",
        "scaled_close = close_scaler.fit_transform(inputs_data[:, [0]])\n",
        "\n",
        "X_test = []\n",
        "for i in range(60, inputs_data.shape[0]):\n",
        "    X_test.append(inputs_data[i-60:i, 0])\n",
        "X_test = np.array(X_test)\n",
        "X_test = np.reshape(X_test, (X_test.shape[0], X_test.shape[1], 1))\n",
        "\n",
        "predicted_closing_price = lstm_model.predict(X_test)\n",
        "\n",
        "predicted_closing_price = close_scaler.inverse_transform(predicted_closing_price)\n",
        "lstm_model.save(\"saved_model.h5\")"
      ],
      "metadata": {
        "colab": {
          "base_uri": "https://localhost:8080/"
        },
        "id": "fU8DN6eOwNvu",
        "outputId": "7de10d6f-00e0-4ba7-8729-6f5483c4f0da"
      },
      "execution_count": null,
      "outputs": [
        {
          "output_type": "stream",
          "name": "stdout",
          "text": [
            "\u001b[1m6/6\u001b[0m \u001b[32m━━━━━━━━━━━━━━━━━━━━\u001b[0m\u001b[37m\u001b[0m \u001b[1m0s\u001b[0m 18ms/step\n"
          ]
        },
        {
          "output_type": "stream",
          "name": "stderr",
          "text": [
            "WARNING:absl:You are saving your model as an HDF5 file via `model.save()` or `keras.saving.save_model(model)`. This file format is considered legacy. We recommend using instead the native Keras format, e.g. `model.save('my_model.keras')` or `keras.saving.save_model(model, 'my_model.keras')`. \n"
          ]
        }
      ]
    },
    {
      "cell_type": "code",
      "source": [
        "train_data = new_dataset[:987]\n",
        "valid_data = new_dataset[987:]\n",
        "valid_data['Predictions'] = predicted_closing_price\n",
        "\n",
        "plt.plot(train_data[\"Close\"])\n",
        "plt.plot(valid_data[['Close', \"Predictions\"]])"
      ],
      "metadata": {
        "colab": {
          "base_uri": "https://localhost:8080/",
          "height": 222
        },
        "id": "AvH1UMZ1mBr3",
        "outputId": "b2b99cc1-a7ce-41bd-9f88-28e7b6c469b2"
      },
      "execution_count": null,
      "outputs": [
        {
          "output_type": "error",
          "ename": "NameError",
          "evalue": "name 'new_dataset' is not defined",
          "traceback": [
            "\u001b[0;31m---------------------------------------------------------------------------\u001b[0m",
            "\u001b[0;31mNameError\u001b[0m                                 Traceback (most recent call last)",
            "\u001b[0;32m<ipython-input-1-5abd4d77c085>\u001b[0m in \u001b[0;36m<cell line: 0>\u001b[0;34m()\u001b[0m\n\u001b[0;32m----> 1\u001b[0;31m \u001b[0mtrain_data\u001b[0m \u001b[0;34m=\u001b[0m \u001b[0mnew_dataset\u001b[0m\u001b[0;34m[\u001b[0m\u001b[0;34m:\u001b[0m\u001b[0;36m987\u001b[0m\u001b[0;34m]\u001b[0m\u001b[0;34m\u001b[0m\u001b[0;34m\u001b[0m\u001b[0m\n\u001b[0m\u001b[1;32m      2\u001b[0m \u001b[0mvalid_data\u001b[0m \u001b[0;34m=\u001b[0m \u001b[0mnew_dataset\u001b[0m\u001b[0;34m[\u001b[0m\u001b[0;36m987\u001b[0m\u001b[0;34m:\u001b[0m\u001b[0;34m]\u001b[0m\u001b[0;34m\u001b[0m\u001b[0;34m\u001b[0m\u001b[0m\n\u001b[1;32m      3\u001b[0m \u001b[0mvalid_data\u001b[0m\u001b[0;34m[\u001b[0m\u001b[0;34m'Predictions'\u001b[0m\u001b[0;34m]\u001b[0m \u001b[0;34m=\u001b[0m \u001b[0mpredicted_closing_price\u001b[0m\u001b[0;34m\u001b[0m\u001b[0;34m\u001b[0m\u001b[0m\n\u001b[1;32m      4\u001b[0m \u001b[0;34m\u001b[0m\u001b[0m\n\u001b[1;32m      5\u001b[0m \u001b[0mplt\u001b[0m\u001b[0;34m.\u001b[0m\u001b[0mplot\u001b[0m\u001b[0;34m(\u001b[0m\u001b[0mtrain_data\u001b[0m\u001b[0;34m[\u001b[0m\u001b[0;34m\"Close\"\u001b[0m\u001b[0;34m]\u001b[0m\u001b[0;34m)\u001b[0m\u001b[0;34m\u001b[0m\u001b[0;34m\u001b[0m\u001b[0m\n",
            "\u001b[0;31mNameError\u001b[0m: name 'new_dataset' is not defined"
          ]
        }
      ]
    },
    {
      "cell_type": "code",
      "source": [
        "import os\n",
        "\n",
        "# Set up Git credentials (if not already set)\n",
        "!git config --global user.email \"vedantsharmaa.211103@gmail.com\"\n",
        "!git config --global user.name \"v3dant21\"\n",
        "\n",
        "# Define repository name and directory\n",
        "repo_name = \"stock-prediction\"\n",
        "repo_dir = repo_name  # Or a different directory name if you prefer\n",
        "\n",
        "# Check if the directory already exists and remove it if necessary\n",
        "if os.path.exists(repo_dir) and os.path.isdir(repo_dir):\n",
        "    !rm -rf {repo_dir}\n",
        "\n",
        "# Clone your GitHub repository\n",
        "!git clone https://github.com/v3dant21/{repo_name}.git {repo_dir}\n",
        "\n",
        "# Assuming your notebook is named 'stock-prediction.ipynb'\n",
        "notebook_file = \"stock-prediction.ipynb\"\n",
        "\n",
        "# Move the notebook into the cloned repo\n",
        "!mv {notebook_file} {repo_dir}/\n",
        "\n",
        "# Change directory to the repo\n",
        "%cd {repo_dir}/\n",
        "\n",
        "# Add, commit, and push the file\n",
        "!git add .\n",
        "!git commit -m \"Initial commit with stock prediction model\"\n",
        "!git push origin main  # or 'master' if your main branch is named 'master'"
      ],
      "metadata": {
        "id": "EjiKEQ6pZ4Wb",
        "colab": {
          "base_uri": "https://localhost:8080/"
        },
        "outputId": "699414c6-d317-4561-830f-5bf4a3c9861b"
      },
      "execution_count": 9,
      "outputs": [
        {
          "output_type": "stream",
          "name": "stdout",
          "text": [
            "Cloning into 'stock-prediction'...\n",
            "fatal: could not read Username for 'https://github.com': No such device or address\n",
            "mv: cannot stat 'stock-prediction.ipynb': No such file or directory\n",
            "[Errno 2] No such file or directory: 'stock-prediction/'\n",
            "/content\n",
            "fatal: not a git repository (or any of the parent directories): .git\n",
            "fatal: not a git repository (or any of the parent directories): .git\n",
            "fatal: not a git repository (or any of the parent directories): .git\n"
          ]
        }
      ]
    }
  ]
}